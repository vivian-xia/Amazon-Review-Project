{
 "cells": [
  {
   "cell_type": "code",
   "execution_count": 1,
   "metadata": {},
   "outputs": [],
   "source": [
    "import pandas as pd\n",
    "import numpy as np\n",
    "import faiss\n",
    "import ast\n",
    "import pickle  # For saving/loading DataFrame"
   ]
  },
  {
   "cell_type": "code",
   "execution_count": null,
   "metadata": {},
   "outputs": [],
   "source": [
    "def load_data(file_path=\"shampoo_top50_review_embeddings.csv\"):\n",
    "    \"\"\"\n",
    "    Loads and processes the dataset, normalizes embeddings, and builds a FAISS index.\n",
    "    Saves the FAISS index and dataframe for future use.\n",
    "    \"\"\"\n",
    "    df = pd.read_csv(file_path)\n",
    "\n",
    "    df[\"embeddings\"] = df[\"embeddings\"].apply(lambda x: np.array(eval(x.split(\"embedding=\")[1].split(\", index=\")[0])))\n",
    "    df[\"embeddings\"] = df[\"embeddings\"].apply(lambda x: x / np.linalg.norm(x))\n",
    "\n",
    "    embedding_matrix = np.vstack(df[\"embeddings\"].values)\n",
    "\n",
    "    # Create FAISS index for cosine similarity\n",
    "    index = faiss.IndexFlatIP(embedding_matrix.shape[1])  \n",
    "    index.add(embedding_matrix)  # Add normalized embeddings\n",
    "\n",
    "    # Save FAISS index\n",
    "    faiss.write_index(index, \"faiss_index.idx\")\n",
    "\n",
    "    # Save DataFrame as a pickle file\n",
    "    df.to_pickle(\"reviews_data.pkl\")\n",
    "\n",
    "    return df, index\n",
    "\n",
    "if __name__ == \"__main__\":\n",
    "    load_data() \n"
   ]
  }
 ],
 "metadata": {
  "kernelspec": {
   "display_name": "Python 3",
   "language": "python",
   "name": "python3"
  },
  "language_info": {
   "codemirror_mode": {
    "name": "ipython",
    "version": 3
   },
   "file_extension": ".py",
   "mimetype": "text/x-python",
   "name": "python",
   "nbconvert_exporter": "python",
   "pygments_lexer": "ipython3",
   "version": "3.13.2"
  }
 },
 "nbformat": 4,
 "nbformat_minor": 2
}
